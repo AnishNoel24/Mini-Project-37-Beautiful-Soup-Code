{
  "nbformat": 4,
  "nbformat_minor": 0,
  "metadata": {
    "colab": {
      "provenance": [],
      "include_colab_link": true
    },
    "kernelspec": {
      "name": "python3",
      "display_name": "Python 3"
    },
    "language_info": {
      "name": "python"
    }
  },
  "cells": [
    {
      "cell_type": "markdown",
      "metadata": {
        "id": "view-in-github",
        "colab_type": "text"
      },
      "source": [
        "<a href=\"https://colab.research.google.com/github/AnishNoel24/Mini-Project-37-Beautiful-Soup-Code/blob/main/Mini_Project_37_Beautiful_Soup_Code.ipynb\" target=\"_parent\"><img src=\"https://colab.research.google.com/assets/colab-badge.svg\" alt=\"Open In Colab\"/></a>"
      ]
    },
    {
      "cell_type": "markdown",
      "source": [
        "#1\n",
        "###Install Beautiful Soup Library"
      ],
      "metadata": {
        "id": "M0_hO4vZ32Zf"
      }
    },
    {
      "cell_type": "code",
      "execution_count": 1,
      "metadata": {
        "id": "1GikjUKlNRpN",
        "colab": {
          "base_uri": "https://localhost:8080/"
        },
        "outputId": "af12453d-15c5-40ae-e569-a7f6dfe79d38"
      },
      "outputs": [
        {
          "output_type": "stream",
          "name": "stdout",
          "text": [
            "Requirement already satisfied: requests in /usr/local/lib/python3.10/dist-packages (2.27.1)\n",
            "Requirement already satisfied: beautifulsoup4 in /usr/local/lib/python3.10/dist-packages (4.11.2)\n",
            "Requirement already satisfied: urllib3<1.27,>=1.21.1 in /usr/local/lib/python3.10/dist-packages (from requests) (1.26.16)\n",
            "Requirement already satisfied: certifi>=2017.4.17 in /usr/local/lib/python3.10/dist-packages (from requests) (2023.5.7)\n",
            "Requirement already satisfied: charset-normalizer~=2.0.0 in /usr/local/lib/python3.10/dist-packages (from requests) (2.0.12)\n",
            "Requirement already satisfied: idna<4,>=2.5 in /usr/local/lib/python3.10/dist-packages (from requests) (3.4)\n",
            "Requirement already satisfied: soupsieve>1.2 in /usr/local/lib/python3.10/dist-packages (from beautifulsoup4) (2.4.1)\n"
          ]
        }
      ],
      "source": [
        "# Install libraries if required\n",
        "\n",
        "!pip install requests beautifulsoup4"
      ]
    },
    {
      "cell_type": "markdown",
      "source": [
        "#1.1\n",
        "###Import required libraries and read the URL"
      ],
      "metadata": {
        "id": "jAcShb8not1L"
      }
    },
    {
      "cell_type": "code",
      "source": [
        "import requests\n",
        "from bs4 import BeautifulSoup\n"
      ],
      "metadata": {
        "id": "XxTwMnAfpD7r"
      },
      "execution_count": 2,
      "outputs": []
    },
    {
      "cell_type": "code",
      "source": [
        "url = 'https://www.flipkart.com/search?q=mobile+phone+5g'"
      ],
      "metadata": {
        "id": "ivdwHYLi12XG"
      },
      "execution_count": 3,
      "outputs": []
    },
    {
      "cell_type": "code",
      "source": [
        "# Make a request to the website\n",
        "response = requests.get(url)\n",
        "\n",
        "# Create a BeautifulSoup object\n",
        "soup = BeautifulSoup(response.text, 'html.parser')\n"
      ],
      "metadata": {
        "id": "yxkeHyOV2PiT"
      },
      "execution_count": 4,
      "outputs": []
    },
    {
      "cell_type": "markdown",
      "source": [
        "#3 - Homework\n",
        "\n",
        "a) To find all the links. (done for you)\n",
        "\n",
        "b) Sort the required links.\n",
        "\n",
        "c) Add https://www.flipkart.com in front of every link so that it can be redirected manually.\n",
        "\n",
        "d) Create a new CSV file another column as links."
      ],
      "metadata": {
        "id": "Am3mHr7Y0K2C"
      }
    },
    {
      "cell_type": "code",
      "source": [
        "# Find all the links on the page\n",
        "links = soup.find_all('a')\n",
        "new_links=[] # To store all the modified links\n",
        "print('Links:')\n",
        "for link in links:\n",
        "    linky=\"https://www.flipkart.com\"+link.get('href')\n",
        "    new_links.append(linky)\n",
        "    print(linky)\n"
      ],
      "metadata": {
        "id": "xEcZZIu1WwgR",
        "colab": {
          "base_uri": "https://localhost:8080/"
        },
        "outputId": "2afdd081-c1f9-4b8b-fe09-4205a10a7ab5"
      },
      "execution_count": 6,
      "outputs": [
        {
          "output_type": "stream",
          "name": "stdout",
          "text": [
            "Links:\n",
            "https://www.flipkart.com/\n",
            "https://www.flipkart.com/plus\n",
            "https://www.flipkart.com/account/login?ret=/search%3Fq%3Dmobile%2Bphone%2B5g\n",
            "https://www.flipkart.comhttps://seller.flipkart.com/sell-online/?utm_source=fkwebsite&utm_medium=websitedirect\n",
            "https://www.flipkart.com/viewcart?exploreMode=true&preference=FLIPKART\n",
            "https://www.flipkart.com/mobiles-accessories/pr?sid=tyy&q=mobile+phone+5g&otracker=categorytree\n",
            "https://www.flipkart.com/mobiles/pr?sid=tyy,4io&q=mobile+phone+5g&otracker=categorytree\n",
            "https://www.flipkart.com/buying-guide/mobiles?sid=tyy,4io&otracker=bg_from_browse_lhs\n",
            "https://www.flipkart.com/\n",
            "https://www.flipkart.com/mobiles-accessories/pr?sid=tyy&marketplace=FLIPKART\n",
            "https://www.flipkart.com/mobiles/pr?sid=tyy,4io&marketplace=FLIPKART\n",
            "https://www.flipkart.com/poco-m4-5g-cool-blue-64-gb/p/itm7b27dd2f5da7e?pid=MOBGDRGPD6YGVHXZ&lid=LSTMOBGDRGPD6YGVHXZBYCJDP&marketplace=FLIPKART&q=mobile+phone+5g&store=tyy%2F4io&spotlightTagId=FkPickId_tyy%2F4io&srno=s_1_1&otracker=search&fm=organic&iid=2f1113b3-b4ad-4ab4-a9eb-977981814f88.MOBGDRGPD6YGVHXZ.SEARCH&ppt=None&ppn=None&ssid=svpeawzfjk0000001689417249941&qH=fa331f09cdd30848\n",
            "https://www.flipkart.com/vivo-t2-5g-velocity-wave-128-gb/p/itma79eb573156a4?pid=MOBGZBFU2GHZTMGN&lid=LSTMOBGZBFU2GHZTMGNEFEQUV&marketplace=FLIPKART&q=mobile+phone+5g&store=tyy%2F4io&srno=s_1_2&otracker=search&fm=organic&iid=2f1113b3-b4ad-4ab4-a9eb-977981814f88.MOBGZBFU2GHZTMGN.SEARCH&ppt=None&ppn=None&ssid=svpeawzfjk0000001689417249941&qH=fa331f09cdd30848\n",
            "https://www.flipkart.com/poco-m4-5g-yellow-64-gb/p/itm5bd9222dd1355?pid=MOBGDRGPBZHUC3VZ&lid=LSTMOBGDRGPBZHUC3VZKR84R7&marketplace=FLIPKART&q=mobile+phone+5g&store=tyy%2F4io&srno=s_1_3&otracker=search&fm=organic&iid=2f1113b3-b4ad-4ab4-a9eb-977981814f88.MOBGDRGPBZHUC3VZ.SEARCH&ppt=None&ppn=None&ssid=svpeawzfjk0000001689417249941&qH=fa331f09cdd30848\n",
            "https://www.flipkart.com/apple-iphone-13-starlight-128-gb/p/itmc9604f122ae7f?pid=MOBG6VF5ADKHKXFX&lid=LSTMOBG6VF5ADKHKXFXQGX7PK&marketplace=FLIPKART&q=mobile+phone+5g&store=tyy%2F4io&srno=s_1_4&otracker=search&fm=organic&iid=2f1113b3-b4ad-4ab4-a9eb-977981814f88.MOBG6VF5ADKHKXFX.SEARCH&ppt=None&ppn=None&ssid=svpeawzfjk0000001689417249941&qH=fa331f09cdd30848\n",
            "https://www.flipkart.com/poco-m4-5g-power-black-64-gb/p/itmdca739218a8a0?pid=MOBGDRGPZTSHNQ5H&lid=LSTMOBGDRGPZTSHNQ5HK2U5VI&marketplace=FLIPKART&q=mobile+phone+5g&store=tyy%2F4io&srno=s_1_5&otracker=search&fm=organic&iid=2f1113b3-b4ad-4ab4-a9eb-977981814f88.MOBGDRGPZTSHNQ5H.SEARCH&ppt=None&ppn=None&ssid=svpeawzfjk0000001689417249941&qH=fa331f09cdd30848\n",
            "https://www.flipkart.com/apple-iphone-13-midnight-128-gb/p/itmca361aab1c5b0?pid=MOBG6VF5Q82T3XRS&lid=LSTMOBG6VF5Q82T3XRSOXJLM9&marketplace=FLIPKART&q=mobile+phone+5g&store=tyy%2F4io&srno=s_1_6&otracker=search&fm=organic&iid=2f1113b3-b4ad-4ab4-a9eb-977981814f88.MOBG6VF5Q82T3XRS.SEARCH&ppt=None&ppn=None&ssid=svpeawzfjk0000001689417249941&qH=fa331f09cdd30848\n",
            "https://www.flipkart.com/samsung-galaxy-f14-5g-goat-green-128-gb/p/itm032d1a69999cc?pid=MOBGNBFNDPGNJ7HY&lid=LSTMOBGNBFNDPGNJ7HYRCCFUH&marketplace=FLIPKART&q=mobile+phone+5g&store=tyy%2F4io&srno=s_1_7&otracker=search&fm=organic&iid=2f1113b3-b4ad-4ab4-a9eb-977981814f88.MOBGNBFNDPGNJ7HY.SEARCH&ppt=None&ppn=None&ssid=svpeawzfjk0000001689417249941&qH=fa331f09cdd30848\n",
            "https://www.flipkart.com/apple-iphone-13-pink-128-gb/p/itm6e30c6ee045d2?pid=MOBG6VF5GXVFTQ5Y&lid=LSTMOBG6VF5GXVFTQ5YSGQY4O&marketplace=FLIPKART&q=mobile+phone+5g&store=tyy%2F4io&srno=s_1_8&otracker=search&fm=organic&iid=2f1113b3-b4ad-4ab4-a9eb-977981814f88.MOBG6VF5GXVFTQ5Y.SEARCH&ppt=None&ppn=None&ssid=svpeawzfjk0000001689417249941&qH=fa331f09cdd30848\n",
            "https://www.flipkart.com/samsung-galaxy-f14-5g-omg-black-128-gb/p/itmae94033406fb2?pid=MOBGNBFNE6KGXCCR&lid=LSTMOBGNBFNE6KGXCCRXLTXS7&marketplace=FLIPKART&q=mobile+phone+5g&store=tyy%2F4io&srno=s_1_9&otracker=search&fm=organic&iid=2f1113b3-b4ad-4ab4-a9eb-977981814f88.MOBGNBFNE6KGXCCR.SEARCH&ppt=None&ppn=None&ssid=svpeawzfjk0000001689417249941&qH=fa331f09cdd30848\n",
            "https://www.flipkart.com/infinix-note-12-pro-5g-force-black-128-gb/p/itm0812c7355f48a?pid=MOBGFGVXVMTFJGTD&lid=LSTMOBGFGVXVMTFJGTDOEQVVB&marketplace=FLIPKART&q=mobile+phone+5g&store=tyy%2F4io&srno=s_1_10&otracker=search&fm=organic&iid=2f1113b3-b4ad-4ab4-a9eb-977981814f88.MOBGFGVXVMTFJGTD.SEARCH&ppt=None&ppn=None&ssid=svpeawzfjk0000001689417249941&qH=fa331f09cdd30848\n",
            "https://www.flipkart.com/poco-x5-pro-5g-horizon-blue-256-gb/p/itm7d7b6b78895bc?pid=MOBGMDKQ2NHTBHJM&lid=LSTMOBGMDKQ2NHTBHJMQ7AMXN&marketplace=FLIPKART&q=mobile+phone+5g&store=tyy%2F4io&srno=s_1_11&otracker=search&fm=organic&iid=2f1113b3-b4ad-4ab4-a9eb-977981814f88.MOBGMDKQ2NHTBHJM.SEARCH&ppt=None&ppn=None&ssid=svpeawzfjk0000001689417249941&qH=fa331f09cdd30848\n",
            "https://www.flipkart.com/google-pixel-6a-charcoal-128-gb/p/itme5ae89135d44e?pid=MOBGFKX5YUXD74Z3&lid=LSTMOBGFKX5YUXD74Z3MXA2OB&marketplace=FLIPKART&q=mobile+phone+5g&store=tyy%2F4io&srno=s_1_12&otracker=search&fm=organic&iid=2f1113b3-b4ad-4ab4-a9eb-977981814f88.MOBGFKX5YUXD74Z3.SEARCH&ppt=None&ppn=None&ssid=svpeawzfjk0000001689417249941&qH=fa331f09cdd30848\n",
            "https://www.flipkart.com/google-pixel-6a-chalk-128-gb/p/itme5ae89135d44e?pid=MOBGFWEZ5SKU84Z8&lid=LSTMOBGFWEZ5SKU84Z8FXPB45&marketplace=FLIPKART&q=mobile+phone+5g&store=tyy%2F4io&srno=s_1_13&otracker=search&fm=organic&iid=2f1113b3-b4ad-4ab4-a9eb-977981814f88.MOBGFWEZ5SKU84Z8.SEARCH&ppt=None&ppn=None&ssid=svpeawzfjk0000001689417249941&qH=fa331f09cdd30848\n",
            "https://www.flipkart.com/apple-iphone-13-blue-128-gb/p/itm6c601e0a58b3c?pid=MOBG6VF5SMXPNQHG&lid=LSTMOBG6VF5SMXPNQHGH3DY6Z&marketplace=FLIPKART&q=mobile+phone+5g&store=tyy%2F4io&srno=s_1_14&otracker=search&fm=organic&iid=2f1113b3-b4ad-4ab4-a9eb-977981814f88.MOBG6VF5SMXPNQHG.SEARCH&ppt=None&ppn=None&ssid=svpeawzfjk0000001689417249941&qH=fa331f09cdd30848\n",
            "https://www.flipkart.com/infinix-note-12-pro-5g-snowfall-128-gb/p/itm0812c7355f48a?pid=MOBGFGVXPBSV9FG6&lid=LSTMOBGFGVXPBSV9FG6OBADHP&marketplace=FLIPKART&q=mobile+phone+5g&store=tyy%2F4io&srno=s_1_15&otracker=search&fm=organic&iid=2f1113b3-b4ad-4ab4-a9eb-977981814f88.MOBGFGVXPBSV9FG6.SEARCH&ppt=None&ppn=None&ssid=svpeawzfjk0000001689417249941&qH=fa331f09cdd30848\n",
            "https://www.flipkart.com/poco-x5-5g-wildcat-blue-128-gb/p/itm6a8049291a98f?pid=MOBGNBFBPH6Q5ZN4&lid=LSTMOBGNBFBPH6Q5ZN4WSEDVR&marketplace=FLIPKART&q=mobile+phone+5g&store=tyy%2F4io&srno=s_1_16&otracker=search&fm=organic&iid=2f1113b3-b4ad-4ab4-a9eb-977981814f88.MOBGNBFBPH6Q5ZN4.SEARCH&ppt=None&ppn=None&ssid=svpeawzfjk0000001689417249941&qH=fa331f09cdd30848\n",
            "https://www.flipkart.com/poco-f4-5g-night-black-256-gb/p/itm7fa11cfc34d04?pid=MOBGE853H86PEDVG&lid=LSTMOBGE853H86PEDVGZBCM9U&marketplace=FLIPKART&q=mobile+phone+5g&store=tyy%2F4io&srno=s_1_17&otracker=search&fm=organic&iid=2f1113b3-b4ad-4ab4-a9eb-977981814f88.MOBGE853H86PEDVG.SEARCH&ppt=None&ppn=None&ssid=svpeawzfjk0000001689417249941&qH=fa331f09cdd30848\n",
            "https://www.flipkart.com/realme-10-pro-5g-dark-matter-128-gb/p/itm1e672d12a252e?pid=MOBGK8VHZGEEGXFR&lid=LSTMOBGK8VHZGEEGXFRIWIE6H&marketplace=FLIPKART&q=mobile+phone+5g&store=tyy%2F4io&srno=s_1_18&otracker=search&fm=organic&iid=2f1113b3-b4ad-4ab4-a9eb-977981814f88.MOBGK8VHZGEEGXFR.SEARCH&ppt=None&ppn=None&ssid=svpeawzfjk0000001689417249941&qH=fa331f09cdd30848\n",
            "https://www.flipkart.com/realme-10-pro-5g-hyperspace-128-gb/p/itm1e672d12a252e?pid=MOBGK8VHZPVGJCES&lid=LSTMOBGK8VHZPVGJCES9YRIWN&marketplace=FLIPKART&q=mobile+phone+5g&store=tyy%2F4io&srno=s_1_19&otracker=search&fm=organic&iid=2f1113b3-b4ad-4ab4-a9eb-977981814f88.MOBGK8VHZPVGJCES.SEARCH&ppt=None&ppn=None&ssid=svpeawzfjk0000001689417249941&qH=fa331f09cdd30848\n",
            "https://www.flipkart.com/realme-10-pro-5g-nebula-blue-128-gb/p/itm1e672d12a252e?pid=MOBGK8VHHFY5VCAY&lid=LSTMOBGK8VHHFY5VCAYOXEXVI&marketplace=FLIPKART&q=mobile+phone+5g&store=tyy%2F4io&srno=s_1_20&otracker=search&fm=organic&iid=2f1113b3-b4ad-4ab4-a9eb-977981814f88.MOBGK8VHHFY5VCAY.SEARCH&ppt=None&ppn=None&ssid=svpeawzfjk0000001689417249941&qH=fa331f09cdd30848\n",
            "https://www.flipkart.com/realme-10-pro-5g-dark-matter-128-gb/p/itm1e672d12a252e?pid=MOBGK8VHWBRKYFJD&lid=LSTMOBGK8VHWBRKYFJDTEBOFU&marketplace=FLIPKART&q=mobile+phone+5g&store=tyy%2F4io&srno=s_1_21&otracker=search&fm=organic&iid=2f1113b3-b4ad-4ab4-a9eb-977981814f88.MOBGK8VHWBRKYFJD.SEARCH&ppt=None&ppn=None&ssid=svpeawzfjk0000001689417249941&qH=fa331f09cdd30848\n",
            "https://www.flipkart.com/realme-10-pro-5g-nebula-blue-128-gb/p/itm1e672d12a252e?pid=MOBGK8VHX6FDJPCE&lid=LSTMOBGK8VHX6FDJPCEW9XIEE&marketplace=FLIPKART&q=mobile+phone+5g&store=tyy%2F4io&srno=s_1_22&otracker=search&fm=organic&iid=2f1113b3-b4ad-4ab4-a9eb-977981814f88.MOBGK8VHX6FDJPCE.SEARCH&ppt=None&ppn=None&ssid=svpeawzfjk0000001689417249941&qH=fa331f09cdd30848\n",
            "https://www.flipkart.com/poco-x5-pro-5g-astral-black-256-gb/p/itm6bf766212d183?pid=MOBGMDKQJ9WVEFYK&lid=LSTMOBGMDKQJ9WVEFYKZEUY55&marketplace=FLIPKART&q=mobile+phone+5g&store=tyy%2F4io&srno=s_1_23&otracker=search&fm=organic&iid=2f1113b3-b4ad-4ab4-a9eb-977981814f88.MOBGMDKQJ9WVEFYK.SEARCH&ppt=None&ppn=None&ssid=svpeawzfjk0000001689417249941&qH=fa331f09cdd30848\n",
            "https://www.flipkart.com/infinix-hot-20-5g-space-blue-64-gb/p/itm6646cdd2ff265?pid=MOBGK23W5QZQGSZW&lid=LSTMOBGK23W5QZQGSZWAQX3AN&marketplace=FLIPKART&q=mobile+phone+5g&store=tyy%2F4io&srno=s_1_24&otracker=search&fm=organic&iid=2f1113b3-b4ad-4ab4-a9eb-977981814f88.MOBGK23W5QZQGSZW.SEARCH&ppt=None&ppn=None&ssid=svpeawzfjk0000001689417249941&qH=fa331f09cdd30848\n",
            "https://www.flipkart.com/search?q=mobile+phone+5g&page=1\n",
            "https://www.flipkart.com/search?q=mobile+phone+5g&page=2\n",
            "https://www.flipkart.com/search?q=mobile+phone+5g&page=3\n",
            "https://www.flipkart.com/search?q=mobile+phone+5g&page=4\n",
            "https://www.flipkart.com/search?q=mobile+phone+5g&page=5\n",
            "https://www.flipkart.com/search?q=mobile+phone+5g&page=6\n",
            "https://www.flipkart.com/search?q=mobile+phone+5g&page=7\n",
            "https://www.flipkart.com/search?q=mobile+phone+5g&page=8\n",
            "https://www.flipkart.com/search?q=mobile+phone+5g&page=9\n",
            "https://www.flipkart.com/search?q=mobile+phone+5g&page=10\n",
            "https://www.flipkart.com/search?q=mobile+phone+5g&page=2\n",
            "https://www.flipkart.com/samsung-galaxy-f14-5g-omg-black-128-gb/p/itmae94033406fb2?pid=MOBGNBFNE6KGXCCR&marketplace=FLIPKART\n",
            "https://www.flipkart.com/vivo-t2-5g-velocity-wave-128-gb/p/itma79eb573156a4?pid=MOBGZBFU2GHZTMGN&marketplace=FLIPKART\n",
            "https://www.flipkart.com/infinix-note-12-pro-5g-force-black-128-gb/p/itm0812c7355f48a?pid=MOBGFGVXVMTFJGTD&marketplace=FLIPKART\n",
            "https://www.flipkart.com/realme-10-pro-5g-nebula-blue-128-gb/p/itm1e672d12a252e?pid=MOBGK8VHX6FDJPCE&marketplace=FLIPKART\n",
            "https://www.flipkart.com/google-pixel-6a-charcoal-128-gb/p/itme5ae89135d44e?pid=MOBGFKX5YUXD74Z3&marketplace=FLIPKART\n",
            "https://www.flipkart.com/helpcentre?otracker=undefined_footer_navlinks\n",
            "https://www.flipkart.comhttps://corporate.flipkart.net/corporate-home\n",
            "https://www.flipkart.comhttps://www.flipkartcareers.com/?otracker=undefined_footer_navlinks\n",
            "https://www.flipkart.comhttp://stories.flipkart.com/?otracker=undefined_footer_navlinks\n",
            "https://www.flipkart.com/s/press?otracker=undefined_footer_navlinks\n",
            "https://www.flipkart.comhttps://www.flipkartwholesale.com/?otracker=undefined_footer_navlinks\n",
            "https://www.flipkart.com/corporate-information\n",
            "https://www.flipkart.com/pages/payments\n",
            "https://www.flipkart.com/pages/shipping\n",
            "https://www.flipkart.com/helpcentre?catalog=55c9c6edb000002e002c1701&view=CATALOG\n",
            "https://www.flipkart.com/helpcentre?catalog=55c9c8e2b0000023002c1702&view=CATALOG\n",
            "https://www.flipkart.comhttps://seller.flipkart.com/fiv?otracker=undefined_footer_navlinks\n",
            "https://www.flipkart.com/pages/returnpolicy?otracker=undefined_footer_navlinks\n",
            "https://www.flipkart.com/pages/terms?otracker=undefined_footer_navlinks\n",
            "https://www.flipkart.com/pages/paymentsecurity?otracker=undefined_footer_navlinks\n",
            "https://www.flipkart.com/pages/privacypolicy?otracker=undefined_footer_navlinks\n",
            "https://www.flipkart.com/sitemap?otracker=undefined_footer_navlinks\n",
            "https://www.flipkart.com/pages/grievance-redressal-mechanism?otracker=undefined_footer_navlinks\n",
            "https://www.flipkart.com/pages/ewaste-compliance-tnc?otracker=undefined_footer_navlinks\n",
            "https://www.flipkart.comhttps://www.facebook.com/flipkart\n",
            "https://www.flipkart.comhttps://www.twitter.com/flipkart\n",
            "https://www.flipkart.comhttps://www.youtube.com/flipkart\n",
            "https://www.flipkart.comtel:044-45614700\n",
            "https://www.flipkart.comhttps://seller.flipkart.com/?utm_source=fkwebsite&utm_medium=websitedirect\n",
            "https://www.flipkart.comhttps://brands.flipkart.com\n",
            "https://www.flipkart.com/the-gift-card-store?otracker=undefined_footer_footer_navlinks\n",
            "https://www.flipkart.com/helpcentre?otracker=undefined_footer_footer_navlinks\n"
          ]
        }
      ]
    },
    {
      "cell_type": "code",
      "source": [
        "# To remove first few and last few lines which are unneccessary\n",
        "new_links=new_links[11:-27]\n",
        "new_links"
      ],
      "metadata": {
        "colab": {
          "base_uri": "https://localhost:8080/"
        },
        "id": "wXEO8It-DBbz",
        "outputId": "059c1093-b58f-4150-c377-ec990e44ce83"
      },
      "execution_count": 8,
      "outputs": [
        {
          "output_type": "execute_result",
          "data": {
            "text/plain": [
              "['https://www.flipkart.com/poco-m4-5g-cool-blue-64-gb/p/itm7b27dd2f5da7e?pid=MOBGDRGPD6YGVHXZ&lid=LSTMOBGDRGPD6YGVHXZBYCJDP&marketplace=FLIPKART&q=mobile+phone+5g&store=tyy%2F4io&spotlightTagId=FkPickId_tyy%2F4io&srno=s_1_1&otracker=search&fm=organic&iid=2f1113b3-b4ad-4ab4-a9eb-977981814f88.MOBGDRGPD6YGVHXZ.SEARCH&ppt=None&ppn=None&ssid=svpeawzfjk0000001689417249941&qH=fa331f09cdd30848',\n",
              " 'https://www.flipkart.com/vivo-t2-5g-velocity-wave-128-gb/p/itma79eb573156a4?pid=MOBGZBFU2GHZTMGN&lid=LSTMOBGZBFU2GHZTMGNEFEQUV&marketplace=FLIPKART&q=mobile+phone+5g&store=tyy%2F4io&srno=s_1_2&otracker=search&fm=organic&iid=2f1113b3-b4ad-4ab4-a9eb-977981814f88.MOBGZBFU2GHZTMGN.SEARCH&ppt=None&ppn=None&ssid=svpeawzfjk0000001689417249941&qH=fa331f09cdd30848',\n",
              " 'https://www.flipkart.com/poco-m4-5g-yellow-64-gb/p/itm5bd9222dd1355?pid=MOBGDRGPBZHUC3VZ&lid=LSTMOBGDRGPBZHUC3VZKR84R7&marketplace=FLIPKART&q=mobile+phone+5g&store=tyy%2F4io&srno=s_1_3&otracker=search&fm=organic&iid=2f1113b3-b4ad-4ab4-a9eb-977981814f88.MOBGDRGPBZHUC3VZ.SEARCH&ppt=None&ppn=None&ssid=svpeawzfjk0000001689417249941&qH=fa331f09cdd30848',\n",
              " 'https://www.flipkart.com/apple-iphone-13-starlight-128-gb/p/itmc9604f122ae7f?pid=MOBG6VF5ADKHKXFX&lid=LSTMOBG6VF5ADKHKXFXQGX7PK&marketplace=FLIPKART&q=mobile+phone+5g&store=tyy%2F4io&srno=s_1_4&otracker=search&fm=organic&iid=2f1113b3-b4ad-4ab4-a9eb-977981814f88.MOBG6VF5ADKHKXFX.SEARCH&ppt=None&ppn=None&ssid=svpeawzfjk0000001689417249941&qH=fa331f09cdd30848',\n",
              " 'https://www.flipkart.com/poco-m4-5g-power-black-64-gb/p/itmdca739218a8a0?pid=MOBGDRGPZTSHNQ5H&lid=LSTMOBGDRGPZTSHNQ5HK2U5VI&marketplace=FLIPKART&q=mobile+phone+5g&store=tyy%2F4io&srno=s_1_5&otracker=search&fm=organic&iid=2f1113b3-b4ad-4ab4-a9eb-977981814f88.MOBGDRGPZTSHNQ5H.SEARCH&ppt=None&ppn=None&ssid=svpeawzfjk0000001689417249941&qH=fa331f09cdd30848',\n",
              " 'https://www.flipkart.com/apple-iphone-13-midnight-128-gb/p/itmca361aab1c5b0?pid=MOBG6VF5Q82T3XRS&lid=LSTMOBG6VF5Q82T3XRSOXJLM9&marketplace=FLIPKART&q=mobile+phone+5g&store=tyy%2F4io&srno=s_1_6&otracker=search&fm=organic&iid=2f1113b3-b4ad-4ab4-a9eb-977981814f88.MOBG6VF5Q82T3XRS.SEARCH&ppt=None&ppn=None&ssid=svpeawzfjk0000001689417249941&qH=fa331f09cdd30848',\n",
              " 'https://www.flipkart.com/samsung-galaxy-f14-5g-goat-green-128-gb/p/itm032d1a69999cc?pid=MOBGNBFNDPGNJ7HY&lid=LSTMOBGNBFNDPGNJ7HYRCCFUH&marketplace=FLIPKART&q=mobile+phone+5g&store=tyy%2F4io&srno=s_1_7&otracker=search&fm=organic&iid=2f1113b3-b4ad-4ab4-a9eb-977981814f88.MOBGNBFNDPGNJ7HY.SEARCH&ppt=None&ppn=None&ssid=svpeawzfjk0000001689417249941&qH=fa331f09cdd30848',\n",
              " 'https://www.flipkart.com/apple-iphone-13-pink-128-gb/p/itm6e30c6ee045d2?pid=MOBG6VF5GXVFTQ5Y&lid=LSTMOBG6VF5GXVFTQ5YSGQY4O&marketplace=FLIPKART&q=mobile+phone+5g&store=tyy%2F4io&srno=s_1_8&otracker=search&fm=organic&iid=2f1113b3-b4ad-4ab4-a9eb-977981814f88.MOBG6VF5GXVFTQ5Y.SEARCH&ppt=None&ppn=None&ssid=svpeawzfjk0000001689417249941&qH=fa331f09cdd30848',\n",
              " 'https://www.flipkart.com/samsung-galaxy-f14-5g-omg-black-128-gb/p/itmae94033406fb2?pid=MOBGNBFNE6KGXCCR&lid=LSTMOBGNBFNE6KGXCCRXLTXS7&marketplace=FLIPKART&q=mobile+phone+5g&store=tyy%2F4io&srno=s_1_9&otracker=search&fm=organic&iid=2f1113b3-b4ad-4ab4-a9eb-977981814f88.MOBGNBFNE6KGXCCR.SEARCH&ppt=None&ppn=None&ssid=svpeawzfjk0000001689417249941&qH=fa331f09cdd30848',\n",
              " 'https://www.flipkart.com/infinix-note-12-pro-5g-force-black-128-gb/p/itm0812c7355f48a?pid=MOBGFGVXVMTFJGTD&lid=LSTMOBGFGVXVMTFJGTDOEQVVB&marketplace=FLIPKART&q=mobile+phone+5g&store=tyy%2F4io&srno=s_1_10&otracker=search&fm=organic&iid=2f1113b3-b4ad-4ab4-a9eb-977981814f88.MOBGFGVXVMTFJGTD.SEARCH&ppt=None&ppn=None&ssid=svpeawzfjk0000001689417249941&qH=fa331f09cdd30848',\n",
              " 'https://www.flipkart.com/poco-x5-pro-5g-horizon-blue-256-gb/p/itm7d7b6b78895bc?pid=MOBGMDKQ2NHTBHJM&lid=LSTMOBGMDKQ2NHTBHJMQ7AMXN&marketplace=FLIPKART&q=mobile+phone+5g&store=tyy%2F4io&srno=s_1_11&otracker=search&fm=organic&iid=2f1113b3-b4ad-4ab4-a9eb-977981814f88.MOBGMDKQ2NHTBHJM.SEARCH&ppt=None&ppn=None&ssid=svpeawzfjk0000001689417249941&qH=fa331f09cdd30848',\n",
              " 'https://www.flipkart.com/google-pixel-6a-charcoal-128-gb/p/itme5ae89135d44e?pid=MOBGFKX5YUXD74Z3&lid=LSTMOBGFKX5YUXD74Z3MXA2OB&marketplace=FLIPKART&q=mobile+phone+5g&store=tyy%2F4io&srno=s_1_12&otracker=search&fm=organic&iid=2f1113b3-b4ad-4ab4-a9eb-977981814f88.MOBGFKX5YUXD74Z3.SEARCH&ppt=None&ppn=None&ssid=svpeawzfjk0000001689417249941&qH=fa331f09cdd30848',\n",
              " 'https://www.flipkart.com/google-pixel-6a-chalk-128-gb/p/itme5ae89135d44e?pid=MOBGFWEZ5SKU84Z8&lid=LSTMOBGFWEZ5SKU84Z8FXPB45&marketplace=FLIPKART&q=mobile+phone+5g&store=tyy%2F4io&srno=s_1_13&otracker=search&fm=organic&iid=2f1113b3-b4ad-4ab4-a9eb-977981814f88.MOBGFWEZ5SKU84Z8.SEARCH&ppt=None&ppn=None&ssid=svpeawzfjk0000001689417249941&qH=fa331f09cdd30848',\n",
              " 'https://www.flipkart.com/apple-iphone-13-blue-128-gb/p/itm6c601e0a58b3c?pid=MOBG6VF5SMXPNQHG&lid=LSTMOBG6VF5SMXPNQHGH3DY6Z&marketplace=FLIPKART&q=mobile+phone+5g&store=tyy%2F4io&srno=s_1_14&otracker=search&fm=organic&iid=2f1113b3-b4ad-4ab4-a9eb-977981814f88.MOBG6VF5SMXPNQHG.SEARCH&ppt=None&ppn=None&ssid=svpeawzfjk0000001689417249941&qH=fa331f09cdd30848',\n",
              " 'https://www.flipkart.com/infinix-note-12-pro-5g-snowfall-128-gb/p/itm0812c7355f48a?pid=MOBGFGVXPBSV9FG6&lid=LSTMOBGFGVXPBSV9FG6OBADHP&marketplace=FLIPKART&q=mobile+phone+5g&store=tyy%2F4io&srno=s_1_15&otracker=search&fm=organic&iid=2f1113b3-b4ad-4ab4-a9eb-977981814f88.MOBGFGVXPBSV9FG6.SEARCH&ppt=None&ppn=None&ssid=svpeawzfjk0000001689417249941&qH=fa331f09cdd30848',\n",
              " 'https://www.flipkart.com/poco-x5-5g-wildcat-blue-128-gb/p/itm6a8049291a98f?pid=MOBGNBFBPH6Q5ZN4&lid=LSTMOBGNBFBPH6Q5ZN4WSEDVR&marketplace=FLIPKART&q=mobile+phone+5g&store=tyy%2F4io&srno=s_1_16&otracker=search&fm=organic&iid=2f1113b3-b4ad-4ab4-a9eb-977981814f88.MOBGNBFBPH6Q5ZN4.SEARCH&ppt=None&ppn=None&ssid=svpeawzfjk0000001689417249941&qH=fa331f09cdd30848',\n",
              " 'https://www.flipkart.com/poco-f4-5g-night-black-256-gb/p/itm7fa11cfc34d04?pid=MOBGE853H86PEDVG&lid=LSTMOBGE853H86PEDVGZBCM9U&marketplace=FLIPKART&q=mobile+phone+5g&store=tyy%2F4io&srno=s_1_17&otracker=search&fm=organic&iid=2f1113b3-b4ad-4ab4-a9eb-977981814f88.MOBGE853H86PEDVG.SEARCH&ppt=None&ppn=None&ssid=svpeawzfjk0000001689417249941&qH=fa331f09cdd30848',\n",
              " 'https://www.flipkart.com/realme-10-pro-5g-dark-matter-128-gb/p/itm1e672d12a252e?pid=MOBGK8VHZGEEGXFR&lid=LSTMOBGK8VHZGEEGXFRIWIE6H&marketplace=FLIPKART&q=mobile+phone+5g&store=tyy%2F4io&srno=s_1_18&otracker=search&fm=organic&iid=2f1113b3-b4ad-4ab4-a9eb-977981814f88.MOBGK8VHZGEEGXFR.SEARCH&ppt=None&ppn=None&ssid=svpeawzfjk0000001689417249941&qH=fa331f09cdd30848',\n",
              " 'https://www.flipkart.com/realme-10-pro-5g-hyperspace-128-gb/p/itm1e672d12a252e?pid=MOBGK8VHZPVGJCES&lid=LSTMOBGK8VHZPVGJCES9YRIWN&marketplace=FLIPKART&q=mobile+phone+5g&store=tyy%2F4io&srno=s_1_19&otracker=search&fm=organic&iid=2f1113b3-b4ad-4ab4-a9eb-977981814f88.MOBGK8VHZPVGJCES.SEARCH&ppt=None&ppn=None&ssid=svpeawzfjk0000001689417249941&qH=fa331f09cdd30848',\n",
              " 'https://www.flipkart.com/realme-10-pro-5g-nebula-blue-128-gb/p/itm1e672d12a252e?pid=MOBGK8VHHFY5VCAY&lid=LSTMOBGK8VHHFY5VCAYOXEXVI&marketplace=FLIPKART&q=mobile+phone+5g&store=tyy%2F4io&srno=s_1_20&otracker=search&fm=organic&iid=2f1113b3-b4ad-4ab4-a9eb-977981814f88.MOBGK8VHHFY5VCAY.SEARCH&ppt=None&ppn=None&ssid=svpeawzfjk0000001689417249941&qH=fa331f09cdd30848',\n",
              " 'https://www.flipkart.com/realme-10-pro-5g-dark-matter-128-gb/p/itm1e672d12a252e?pid=MOBGK8VHWBRKYFJD&lid=LSTMOBGK8VHWBRKYFJDTEBOFU&marketplace=FLIPKART&q=mobile+phone+5g&store=tyy%2F4io&srno=s_1_21&otracker=search&fm=organic&iid=2f1113b3-b4ad-4ab4-a9eb-977981814f88.MOBGK8VHWBRKYFJD.SEARCH&ppt=None&ppn=None&ssid=svpeawzfjk0000001689417249941&qH=fa331f09cdd30848',\n",
              " 'https://www.flipkart.com/realme-10-pro-5g-nebula-blue-128-gb/p/itm1e672d12a252e?pid=MOBGK8VHX6FDJPCE&lid=LSTMOBGK8VHX6FDJPCEW9XIEE&marketplace=FLIPKART&q=mobile+phone+5g&store=tyy%2F4io&srno=s_1_22&otracker=search&fm=organic&iid=2f1113b3-b4ad-4ab4-a9eb-977981814f88.MOBGK8VHX6FDJPCE.SEARCH&ppt=None&ppn=None&ssid=svpeawzfjk0000001689417249941&qH=fa331f09cdd30848',\n",
              " 'https://www.flipkart.com/poco-x5-pro-5g-astral-black-256-gb/p/itm6bf766212d183?pid=MOBGMDKQJ9WVEFYK&lid=LSTMOBGMDKQJ9WVEFYKZEUY55&marketplace=FLIPKART&q=mobile+phone+5g&store=tyy%2F4io&srno=s_1_23&otracker=search&fm=organic&iid=2f1113b3-b4ad-4ab4-a9eb-977981814f88.MOBGMDKQJ9WVEFYK.SEARCH&ppt=None&ppn=None&ssid=svpeawzfjk0000001689417249941&qH=fa331f09cdd30848',\n",
              " 'https://www.flipkart.com/infinix-hot-20-5g-space-blue-64-gb/p/itm6646cdd2ff265?pid=MOBGK23W5QZQGSZW&lid=LSTMOBGK23W5QZQGSZWAQX3AN&marketplace=FLIPKART&q=mobile+phone+5g&store=tyy%2F4io&srno=s_1_24&otracker=search&fm=organic&iid=2f1113b3-b4ad-4ab4-a9eb-977981814f88.MOBGK23W5QZQGSZW.SEARCH&ppt=None&ppn=None&ssid=svpeawzfjk0000001689417249941&qH=fa331f09cdd30848',\n",
              " 'https://www.flipkart.com/search?q=mobile+phone+5g&page=1',\n",
              " 'https://www.flipkart.com/search?q=mobile+phone+5g&page=2',\n",
              " 'https://www.flipkart.com/search?q=mobile+phone+5g&page=3',\n",
              " 'https://www.flipkart.com/search?q=mobile+phone+5g&page=4',\n",
              " 'https://www.flipkart.com/search?q=mobile+phone+5g&page=5',\n",
              " 'https://www.flipkart.com/search?q=mobile+phone+5g&page=6',\n",
              " 'https://www.flipkart.com/search?q=mobile+phone+5g&page=7',\n",
              " 'https://www.flipkart.com/search?q=mobile+phone+5g&page=8',\n",
              " 'https://www.flipkart.com/search?q=mobile+phone+5g&page=9',\n",
              " 'https://www.flipkart.com/search?q=mobile+phone+5g&page=10',\n",
              " 'https://www.flipkart.com/search?q=mobile+phone+5g&page=2',\n",
              " 'https://www.flipkart.com/samsung-galaxy-f14-5g-omg-black-128-gb/p/itmae94033406fb2?pid=MOBGNBFNE6KGXCCR&marketplace=FLIPKART',\n",
              " 'https://www.flipkart.com/vivo-t2-5g-velocity-wave-128-gb/p/itma79eb573156a4?pid=MOBGZBFU2GHZTMGN&marketplace=FLIPKART',\n",
              " 'https://www.flipkart.com/infinix-note-12-pro-5g-force-black-128-gb/p/itm0812c7355f48a?pid=MOBGFGVXVMTFJGTD&marketplace=FLIPKART',\n",
              " 'https://www.flipkart.com/realme-10-pro-5g-nebula-blue-128-gb/p/itm1e672d12a252e?pid=MOBGK8VHX6FDJPCE&marketplace=FLIPKART',\n",
              " 'https://www.flipkart.com/google-pixel-6a-charcoal-128-gb/p/itme5ae89135d44e?pid=MOBGFKX5YUXD74Z3&marketplace=FLIPKART']"
            ]
          },
          "metadata": {},
          "execution_count": 8
        }
      ]
    },
    {
      "cell_type": "code",
      "source": [
        "import csv\n",
        "data = zip(new_links)\n",
        "\n",
        "filename = 'Links_data.csv'\n",
        "\n",
        "with open(filename, 'w', newline='') as csvfile:\n",
        "    writer = csv.writer(csvfile)\n",
        "    writer.writerow(['Links'])  # Write header row\n",
        "    writer.writerows(data)\n",
        "\n",
        "print(f\"Data has been written to {filename}.\")"
      ],
      "metadata": {
        "colab": {
          "base_uri": "https://localhost:8080/"
        },
        "id": "5sDAz4sp-gJk",
        "outputId": "6b39ee8f-4787-4419-a501-83182d2fff69"
      },
      "execution_count": 9,
      "outputs": [
        {
          "output_type": "stream",
          "name": "stdout",
          "text": [
            "Data has been written to Links_data.csv.\n"
          ]
        }
      ]
    },
    {
      "cell_type": "code",
      "source": [],
      "metadata": {
        "id": "fUsDvJXnCxk0"
      },
      "execution_count": null,
      "outputs": []
    }
  ]
}